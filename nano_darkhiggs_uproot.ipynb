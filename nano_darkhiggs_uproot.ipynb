{
 "cells": [
  {
   "cell_type": "code",
   "execution_count": 1,
   "metadata": {},
   "outputs": [],
   "source": [
    "## Files required for this example at /uscms/home/fnavarro/nobackup/nano_darkhiggs_files/ \n",
    "import uproot, uproot_methods\n",
    "import numpy as np\n",
    "from striped.job import SinglePointStripedSession as Session, IPythonDisplay\n",
    "import fnal_column_analysis_tools\n",
    "from histbook import *\n",
    "from fnal_column_analysis_tools.analysis_objects import JaggedCandidateArray\n",
    "from awkward import JaggedArray, Table\n",
    "from vega import VegaLite as canvas                \n",
    "import vega\n",
    "  \n",
    "\n",
    "\n",
    "\n",
    "extractor = fnal_column_analysis_tools.lookup_tools.extractor()\n",
<<<<<<< HEAD
    "extractor.add_weight_sets(['* * lookup_tables/eleTrig.root','* * lookup_tables/muon_trig_Run2016BtoF.root'])\n",
=======
    "extractor.add_weight_sets(['* * eleTrig.root','* * muon_trig_Run2016BtoF.root'])\n",
>>>>>>> 1504bc9f233bf0ce8499b6ce1ce4f7f0f78c3bab
    "extractor.finalize()\n",
    "\n",
    "evaluator = extractor.make_evaluator()\n",
    "\n",
    "hist1 = Hist(bin(\"Dielectron_mass\",50,0,200),weight='e_weight')\n",
    "hist2 = Hist(bin(\"Dimuon_mass\",50,0,200),weight='m_weight')\n",
    "\n",
    "\n",
    "\n",
    "met_trigger_paths = [\"HLT_PFMET170_NoiseCleaned\",\n",
    "            \"HLT_PFMET170_HBHECleaned\",\n",
    "            \"HLT_PFMET170_JetIdCleaned\",\n",
    "            \"HLT_PFMET170_NotCleaned\",\n",
    "            #\"HLT_PFMET170_HBHE_BeamHaloCleaned\",\n",
    "            #\"HLT_PFMETNoMu120_NoiseCleaned_PFMHTNoMu120_IDTight\",\n",
    "            #\"HLT_PFMETNoMu110_NoiseCleaned_PFMHTNoMu110_IDTight\",\n",
    "            #\"HLT_PFMETNoMu90_NoiseCleaned_PFMHTNoMu90_IDTight\",\n",
    "            \"HLT_PFMETNoMu90_PFMHTNoMu90_IDTight\",\n",
    "            \"HLT_PFMETNoMu100_PFMHTNoMu100_IDTight\",\n",
    "            \"HLT_PFMETNoMu110_PFMHTNoMu110_IDTight\",\n",
    "            \"HLT_PFMETNoMu120_PFMHTNoMu120_IDTight\"]\n",
    "met_trigger_columns = {path:path for path in met_trigger_paths}\n",
    "\n",
    "singleele_trigger_paths = [#\"HLT_Ele27_WP85_Gsf\",\n",
    "          \"HLT_Ele27_WPLoose_Gsf\",\n",
    "          \"HLT_Ele105_CaloIdVT_GsfTrkIdT\",\n",
    "          \"HLT_Ele27_WPTight_Gsf\",\n",
    "          #\"HLT_Ele30_WPTight_Gsf\",\n",
    "          \"HLT_Ele27_eta2p1_WPTight_Gsf\",\n",
    "          \"HLT_Ele32_eta2p1_WPTight_Gsf\",\n",
    "          \"HLT_Ele35_WPLoose_Gsf\",\n",
    "          \"HLT_ECALHT800\"]\n",
    "singleele_trigger_columns = {path:path for path in singleele_trigger_paths}\n",
    "\n",
    "singlephoton_trigger_paths = [\"HLT_Photon175\",\n",
    "          #\"HLT_Photon200\",\n",
    "          \"HLT_Photon165_HE10\",\n",
    "          \"HLT_Photon36_R9Id90_HE10_IsoM\",\n",
    "          \"HLT_Photon50_R9Id90_HE10_IsoM\",\n",
    "          \"HLT_Photon75_R9Id90_HE10_IsoM\",\n",
    "          \"HLT_Photon90_R9Id90_HE10_IsoM\",\n",
    "          \"HLT_Photon120_R9Id90_HE10_IsoM\",\n",
    "          \"HLT_Photon165_R9Id90_HE10_IsoM\",\n",
    "          \"HLT_Photon300_NoHE\",\n",
    "          \"HLT_ECALHT800\",\n",
    "          \"HLT_CaloJet500_NoJetID\"]\n",
    "singlephoton_trigger_columns = {path:path for path in singlephoton_trigger_paths}\n",
    "\n",
    "\n",
    "electron_columns = {'pt':'Electron_pt','eta':'Electron_eta','phi':'Electron_phi','mass':'Electron_mass','iso':'Electron_pfRelIso03_all','dxy':'Electron_dxy','dz':'Electron_dz','id':'Electron_mvaSpring16GP_WP90'}\n",
    "\n",
    "muon_columns = {'pt':'Muon_pt','eta':'Muon_eta','phi':'Muon_phi','mass':'Muon_mass','iso':'Muon_pfRelIso04_all','dxy':'Muon_dxy','dz':'Muon_dz'}\n",
    "\n",
    "\n",
    "jet_columns = {'pt':'Jet_pt','eta':'Jet_eta','phi':'Jet_phi','mass':'Jet_mass','id':'Jet_jetId'}\n",
    "\n",
    "tau_columns = {'pt':'Tau_pt','eta':'Tau_eta','phi':'Tau_phi','mass':'Tau_mass','decayMode':'Tau_idDecayMode','decayModeNew':'Tau_idDecayModeNewDMs','id':'Tau_idMVAnew'} # (idmVAnewDM does not exist in my file) idMVAnew\n",
    "\n",
    "photon_columns = {'pt':'Photon_pt','eta':'Photon_eta','phi':'Photon_phi','mass':'Photon_mass',}\n",
    "\n",
    "gen_columns = {'pt':'GenPart_pt','eta':'GenPart_eta','phi':'GenPart_phi','mass':'GenPart_mass','id':'GenPart_pdgId','status':'GenPart_status'}\n",
    "\n",
    "all_columns = [electron_columns,muon_columns,jet_columns,photon_columns,met_trigger_columns,singleele_trigger_columns,singlephoton_trigger_columns,tau_columns,gen_columns]\n",
    "\n",
    "columns = []\n",
    "for cols in all_columns: columns.extend(list(cols.values()))\n",
    "\n",
    "\n",
    "\n"
   ]
  },
  {
   "cell_type": "code",
   "execution_count": 2,
   "metadata": {},
   "outputs": [],
   "source": [
    "# Functions\n",
    "\n",
    "def wgt(pt): # For TT pt sf\n",
    "    return np.exp(0.0615 - 0.0005 * np.clip(pt, 0, 800))\n"
   ]
  },
  {
   "cell_type": "code",
   "execution_count": 3,
   "metadata": {
    "scrolled": true
   },
   "outputs": [
    {
     "name": "stderr",
     "output_type": "stream",
     "text": [
      "/home/felipe/.local/lib/python2.7/site-packages/uproot_methods/classes/TLorentzVector.py:614: RuntimeWarning: overflow encountered in sinh\n",
      "  z = pt * awkward.util.numpy.sinh(eta)\n",
      "/home/felipe/.local/lib/python2.7/site-packages/uproot_methods/classes/TLorentzVector.py:614: RuntimeWarning: invalid value encountered in multiply\n",
      "  z = pt * awkward.util.numpy.sinh(eta)\n",
      "/home/felipe/.local/lib/python2.7/site-packages/fnal_column_analysis_tools/analysis_objects/JaggedCandidateArray.py:16: RuntimeWarning: divide by zero encountered in arctanh\n",
      "  return np.arctanh(pz/p3mag)\n"
     ]
    }
   ],
   "source": [
    "\n",
<<<<<<< HEAD
    "for arrays in uproot.iterate('test_coffeabeans/ZZ*.root','Events',columns,entrysteps=5000):\n",
=======
    "for arrays in uproot.iterate('root_files/ZZ*.root','Events',columns,entrysteps=5000):\n",
>>>>>>> 1504bc9f233bf0ce8499b6ce1ce4f7f0f78c3bab
    "        # initialize phyisics objects\n",
    "    triggers =  {'MET':np.prod([arrays[val] for val in met_trigger_columns], axis=0),\n",
    "                     'SingleEle':np.prod([arrays[val] for val in singleele_trigger_columns],axis=0),\n",
    "                     'SinglePhoton':np.prod([arrays[val] for val in singlephoton_trigger_columns],axis=0)\n",
    "                }\n",
    "        \n",
    "    electrons = JaggedCandidateArray.candidatesfromcounts(arrays[electron_columns['pt']].counts, **{key:arrays[val].content for key,val in electron_columns.items()})                                                             \n",
    "    muons = JaggedCandidateArray.candidatesfromcounts(arrays[muon_columns['pt']].counts, **{key:arrays[val].content for key,val in muon_columns.items()})\n",
    "    taus = JaggedCandidateArray.candidatesfromcounts(arrays[tau_columns['pt']].counts, **{key:arrays[val].content for key,val in tau_columns.items()})                     \n",
    "    photons = JaggedCandidateArray.candidatesfromcounts(arrays[photon_columns['pt']].counts, **{key:arrays[val].content for key,val in photon_columns.items()})                                                   \n",
    "    jets = JaggedCandidateArray.candidatesfromcounts(arrays[jet_columns['pt']].counts, **{key:arrays[val].content for key,val in jet_columns.items()})\n",
    "    genPart = JaggedCandidateArray.candidatesfromcounts(arrays[gen_columns['pt']].counts, **{key:arrays[val].content for key,val in gen_columns.items()})\n",
    "\n",
    "    # end initialize\n",
    "\n",
    "        # physical objects selection\n",
    "    loose_electron_selection = (electrons.pt>7)&(abs(electrons.eta)<2.4)&(abs(electrons.dxy)<0.05)&(abs(electrons.dz)<0.2)&(electrons.iso<0.4)&(electrons.id)\n",
    "    loose_muon_selection =  (muons.pt>5)&(abs(muons.eta)<2.4)&(abs(muons.dxy)<0.5)&(abs(muons.dz)<1.0)&(muons.iso<0.4)\n",
    "    loose_photon_selection = (photons.pt>15)*(abs(photons.eta)<2.5)\n",
    "    tau_selection = (taus.pt>18)&(abs(taus.eta)<2.3)&(taus.decayMode)&((taus.id&2)!=0)\n",
    "    jet_selection = (jets.pt>25)&(abs(jets.eta)<4.5)&((jets.id&2)!=0)\n",
    "    \n",
    "    loose_electrons = electrons[loose_electron_selection]\n",
    "    loose_muons = muons[loose_muon_selection]\n",
    "    loose_photons = photons[loose_photon_selection]\n",
    "    selected_taus = taus[tau_selection]\n",
    "    selected_jets = jets[jet_selection]\n",
    "        # end seletion\n",
    "    \n",
    "        # clean leptons\n",
    "    e_combinations = loose_electrons.p4.cross(selected_jets.p4, nested=True)\n",
    "    mask = (e_combinations.i0.delta_r(e_combinations.i1) < 0.3 ).any()\n",
    "    clean_electrons = loose_electrons[~mask]\n",
    "    \n",
    "    m_combinations = loose_muons.p4.cross(selected_jets.p4, nested=True)\n",
    "    mask = (m_combinations.i0.delta_r(m_combinations.i1) < 0.3).any()\n",
    "    clean_muons = loose_muons[mask]\n",
    "    \n",
    "    clean_leptons = JaggedArray.fromiter([clean_electrons, clean_muons])\n",
    "\n",
    "    # once merge is done\n",
    "    # mask = loose_electrons.p4.match(selected_jets.p4, 0.3)\n",
    "    # clean electrons = loose_electrons[~mask]\n",
    "        # end cleaning\n",
    "    \n",
    "        # weights evaluation\n",
    "    e_counts = clean_electrons.counts\n",
    "    e_sfTrigg = np.ones(clean_electrons.size)\n",
    "    e_sfTrigg[e_counts>0] = 1 - evaluator[\"hEffEtaPt\"](clean_electrons.eta[e_counts>0,0], clean_electrons.pt[e_counts > 0,0])\n",
    "    e_sfTrigg[e_counts > 1] =  1- (1- evaluator[\"hEffEtaPt\"](clean_electrons.eta[e_counts>1,0], clean_electrons.pt[e_counts > 1,0]))*(1- evaluator[\"hEffEtaPt\"](clean_electrons.eta[e_counts>1,1], clean_electrons.pt[e_counts > 1,1]))\n",
    "\n",
    "    m_counts = clean_muons.counts\n",
    "    m_sfTrigg = np.ones(clean_muons.size)\n",
    "    m_sfTrigg[m_counts>0] =  1- evaluator[\"IsoMu24_OR_IsoTkMu24_PtEtaBins/efficienciesDATA/pt_abseta_DATA\"](clean_muons.eta[m_counts>0,0], clean_muons.pt[m_counts > 0,0])\n",
    "    m_sfTrigg[m_counts > 1] =  1- (1- evaluator[\"IsoMu24_OR_IsoTkMu24_PtEtaBins/efficienciesDATA/pt_abseta_DATA\"](clean_muons.eta[m_counts>1,0], clean_muons.pt[m_counts > 1,0]))*(1- evaluator[\"IsoMu24_OR_IsoTkMu24_PtEtaBins/efficienciesDATA/pt_abseta_DATA\"](clean_muons.eta[m_counts>1,1], clean_muons.pt[m_counts > 1,1]))\n",
    "    \n",
    "    genTops = genPart[abs(genPart.id)==6]\n",
    "    genWs = genPart[abs(genPart.id)==24]\n",
    "    genZs = genPart[abs(genPart.id)==23]\n",
    "    genHs = genPart[abs(genPart.id)==25]\n",
    "    \n",
    "    topptWeight = np.ones(genPart.size)\n",
    "    vptWeightEWK = np.ones(genPart.size)\n",
    "    topptWeight[genTops.counts > 1] = np.sqrt(wgt(genTops[genTops.counts >1].pt[:,0]) * wgt(genTops[genTops.counts > 1].pt[:,1]))\n",
    "   \n",
    "    vptWeightEWK_first_selection = (genWs.counts==1)&(genZs.counts==0)&(genHs.counts==0)&(genTops.counts==0)#&(genWs[genWs.counts>0].pt[:,0]>=100)#(genWs[genWs.counts>0].pt[:,0]<3000)\n",
    "    vptWeightEWK[vptWeightEWK_first_selection] = (-0.830041 + 7.93714 * (np.power(genWs[vptWeightEWK_first_selection].pt[:,0] + 877.978, -0.213831))) \n",
    "    vptWeightEWK[vptWeightEWK_first_selection][(genWs[vptWeightEWK_first_selection].pt[:,0]<100)&(genWs[vptWeightEWK_first_selection].pt[:,0]>=3000)]=1.\n",
    "    \n",
    "    vptWeightEWK_second_selection = (genWs.counts==0)&(genZs.counts==1)&(genHs.counts==0)&(genTops.counts==0)#&(genZs[genZs.counts > 0].pt[:,0]>=100)#&(genZs[genZs.counts>0].pt[:,0]<3000)\n",
    "    vptWeightEWK[vptWeightEWK_second_selection] = (-0.1808051 + 6.04146 * (np.power(genZs[vptWeightEWK_second_selection].pt[:,0] + 759.098, -0.242556))) \n",
    "    vptWeightEWK[vptWeightEWK_second_selection][(genZs[vptWeightEWK_second_selection].pt[:,0]<100)&(genZs[vptWeightEWK_second_selection].pt[:,0]>=3000)]=1.\n",
    "    \n",
    "    weight = m_sfTrigg*e_sfTrigg*topptWeight*vptWeightEWK\n",
    "        # end weights\n",
    "\n",
    "        # find dileptons\n",
    "    dielectrons = clean_electrons.distincts()\n",
    "    dielectron_mass = dielectrons.mass\n",
    "    e_weight = weight[dielectron_mass.counts>0]\n",
    "    dielectron_mass = dielectron_mass[dielectron_mass.counts>0][:,0]\n",
    "    \n",
    "    dimuons = clean_muons.distincts()  # the function distincts returns a jagged array with the sum of the four momentum of all distinct pairs in the original jagged array\n",
    "    dimuon_mass = dimuons.mass\n",
    "    m_weight = weight[dimuon_mass.counts>0]\n",
    "    dimuon_mass = dimuon_mass[dimuon_mass.counts > 0][:,0]\n",
    "        # end dileptons\n",
    "    \n",
    "        # plots\n",
    "\n",
    "    \n",
    "    \n",
    "    hist1.fill(Dielectron_mass=dielectron_mass,e_weight=e_weight)\n",
    "    hist2.fill(Dimuon_mass=dimuon_mass, m_weight=m_weight)\n",
    "    \n",
    "        # end plots"
   ]
  },
  {
   "cell_type": "code",
   "execution_count": 4,
   "metadata": {
    "scrolled": true
   },
   "outputs": [
    {
     "data": {
      "text/html": [
<<<<<<< HEAD
       "<div class=\"vega-embed\" id=\"05dd635e-6dbe-428f-a377-a843f664cfb7\"></div>\n",
=======
       "<div class=\"vega-embed\" id=\"ca9f937b-9bcb-4d18-b0fd-4c1b1335a5c2\"></div>\n",
>>>>>>> 1504bc9f233bf0ce8499b6ce1ce4f7f0f78c3bab
       "\n",
       "<style>\n",
       ".vega-embed .error p {\n",
       "    color: firebrick;\n",
       "    font-size: 14px;\n",
       "}\n",
       "</style>\n"
      ]
     },
     "metadata": {
<<<<<<< HEAD
      "jupyter-vega": "#05dd635e-6dbe-428f-a377-a843f664cfb7"
=======
      "jupyter-vega": "#ca9f937b-9bcb-4d18-b0fd-4c1b1335a5c2"
>>>>>>> 1504bc9f233bf0ce8499b6ce1ce4f7f0f78c3bab
     },
     "output_type": "display_data"
    },
    {
     "data": {
      "application/javascript": [
       "var spec = {\"$schema\": \"https://vega.github.io/schema/vega-lite/v2.json\", \"data\": {\"values\": [{\"b0\": 0.0, \"id\": \"b\", \"b1\": 0.0}, {\"b0\": 2e-08, \"id\": \"b\", \"b1\": 0.0}, {\"b0\": 4.0, \"id\": \"b\", \"b1\": 0.0}, {\"b0\": 8.0, \"id\": \"b\", \"b1\": 0.0}, {\"b0\": 12.0, \"id\": \"b\", \"b1\": 0.9323953328757721}, {\"b0\": 16.0, \"id\": \"b\", \"b1\": 0.7557919277283986}, {\"b0\": 20.0, \"id\": \"b\", \"b1\": 0.0019230769230769162}, {\"b0\": 24.0, \"id\": \"b\", \"b1\": 0.0}, {\"b0\": 28.000000000000004, \"id\": \"b\", \"b1\": 2.3490760896761076}, {\"b0\": 32.0, \"id\": \"b\", \"b1\": 0.2247474747474747}, {\"b0\": 36.0, \"id\": \"b\", \"b1\": 2.6763724224466356}, {\"b0\": 40.0, \"id\": \"b\", \"b1\": 6.4623264087541}, {\"b0\": 44.0, \"id\": \"b\", \"b1\": 8.764518770669717}, {\"b0\": 48.0, \"id\": \"b\", \"b1\": 5.939725824384668}, {\"b0\": 52.0, \"id\": \"b\", \"b1\": 8.008756011324618}, {\"b0\": 56.00000000000001, \"id\": \"b\", \"b1\": 12.226785168691066}, {\"b0\": 60.0, \"id\": \"b\", \"b1\": 4.49456693770666}, {\"b0\": 64.0, \"id\": \"b\", \"b1\": 5.720467198979637}, {\"b0\": 68.0, \"id\": \"b\", \"b1\": 5.645624482218461}, {\"b0\": 72.0, \"id\": \"b\", \"b1\": 12.24047506885472}, {\"b0\": 76.0, \"id\": \"b\", \"b1\": 18.81820939790588}, {\"b0\": 80.0, \"id\": \"b\", \"b1\": 40.396632439586234}, {\"b0\": 84.0, \"id\": \"b\", \"b1\": 133.67544920441418}, {\"b0\": 88.0, \"id\": \"b\", \"b1\": 329.71026709005366}, {\"b0\": 92.0, \"id\": \"b\", \"b1\": 179.07285058160704}, {\"b0\": 96.0, \"id\": \"b\", \"b1\": 39.20429984767952}, {\"b0\": 100.0, \"id\": \"b\", \"b1\": 11.405169159502258}, {\"b0\": 104.0, \"id\": \"b\", \"b1\": 6.839085414126669}, {\"b0\": 108.0, \"id\": \"b\", \"b1\": 4.837888235617973}, {\"b0\": 112.00000000000001, \"id\": \"b\", \"b1\": 1.951506429667237}, {\"b0\": 115.99999999999999, \"id\": \"b\", \"b1\": 4.935034586018901}, {\"b0\": 120.0, \"id\": \"b\", \"b1\": 0.0}, {\"b0\": 124.0, \"id\": \"b\", \"b1\": 0.0}, {\"b0\": 128.0, \"id\": \"b\", \"b1\": 1.9934881779923144}, {\"b0\": 132.0, \"id\": \"b\", \"b1\": 0.9842452710821608}, {\"b0\": 136.0, \"id\": \"b\", \"b1\": 2.977687872528154}, {\"b0\": 140.0, \"id\": \"b\", \"b1\": 0.9922863347125741}, {\"b0\": 144.0, \"id\": \"b\", \"b1\": 1.964140275674656}, {\"b0\": 148.0, \"id\": \"b\", \"b1\": 0.0}, {\"b0\": 152.0, \"id\": \"b\", \"b1\": 0.9801136363636364}, {\"b0\": 156.0, \"id\": \"b\", \"b1\": 0.0}, {\"b0\": 160.0, \"id\": \"b\", \"b1\": 0.0}, {\"b0\": 164.0, \"id\": \"b\", \"b1\": 0.0}, {\"b0\": 168.0, \"id\": \"b\", \"b1\": 0.0}, {\"b0\": 172.0, \"id\": \"b\", \"b1\": 0.9953358894393792}, {\"b0\": 176.0, \"id\": \"b\", \"b1\": 0.9981909807468665}, {\"b0\": 180.0, \"id\": \"b\", \"b1\": 0.9923672150021033}, {\"b0\": 184.0, \"id\": \"b\", \"b1\": 0.0}, {\"b0\": 188.0, \"id\": \"b\", \"b1\": 0.0}, {\"b0\": 192.0, \"id\": \"b\", \"b1\": 0.0}, {\"b0\": 196.0, \"id\": \"b\", \"b1\": 0.0}, {\"b0\": 200.0, \"id\": \"b\", \"b1\": 0.0}, {\"c1\": 0.0, \"c0\": 0.0, \"id\": \"c\"}, {\"c1\": 8.29116954852995, \"c0\": 2e-08, \"id\": \"c\"}, {\"c1\": 2.7641631960868835, \"c0\": 4.0, \"id\": \"c\"}, {\"c1\": 0.0, \"c0\": 8.0, \"id\": \"c\"}, {\"c1\": 0.9213877320289612, \"c0\": 12.0, \"id\": \"c\"}, {\"c1\": 1.8427754640579224, \"c0\": 16.0, \"id\": \"c\"}, {\"c1\": 1.8427754640579224, \"c0\": 20.0, \"id\": \"c\"}, {\"c1\": 8.29248958826065, \"c0\": 24.0, \"id\": \"c\"}, {\"c1\": 8.29248958826065, \"c0\": 28.000000000000004, \"id\": \"c\"}, {\"c1\": 16.5849791765213, \"c0\": 32.0, \"id\": \"c\"}, {\"c1\": 17.506366908550262, \"c0\": 36.0, \"id\": \"c\"}, {\"c1\": 80.16073268651962, \"c0\": 40.0, \"id\": \"c\"}, {\"c1\": 93.06016093492508, \"c0\": 44.0, \"id\": \"c\"}, {\"c1\": 105.03820145130157, \"c0\": 48.0, \"id\": \"c\"}, {\"c1\": 113.33069103956223, \"c0\": 52.0, \"id\": \"c\"}, {\"c1\": 116.09485423564911, \"c0\": 56.00000000000001, \"id\": \"c\"}, {\"c1\": 175.06366908550262, \"c0\": 60.0, \"id\": \"c\"}, {\"c1\": 185.19705758439548, \"c0\": 64.0, \"id\": \"c\"}, {\"c1\": 255.22440177202225, \"c0\": 68.0, \"id\": \"c\"}, {\"c1\": 391.5897861123085, \"c0\": 72.0, \"id\": \"c\"}, {\"c1\": 714.0754923224449, \"c0\": 76.0, \"id\": \"c\"}, {\"c1\": 1355.361353814602, \"c0\": 80.0, \"id\": \"c\"}, {\"c1\": 4094.6470811367035, \"c0\": 84.0, \"id\": \"c\"}, {\"c1\": 17256.670833170414, \"c0\": 88.0, \"id\": \"c\"}, {\"c1\": 8997.351203262806, \"c0\": 92.0, \"id\": \"c\"}, {\"c1\": 1665.8690195083618, \"c0\": 96.0, \"id\": \"c\"}, {\"c1\": 610.8800663352013, \"c0\": 100.0, \"id\": \"c\"}, {\"c1\": 333.54235899448395, \"c0\": 104.0, \"id\": \"c\"}, {\"c1\": 198.09836238622665, \"c0\": 108.0, \"id\": \"c\"}, {\"c1\": 152.0289757847786, \"c0\": 112.00000000000001, \"id\": \"c\"}, {\"c1\": 109.64514011144638, \"c0\": 115.99999999999999, \"id\": \"c\"}, {\"c1\": 87.53183454275131, \"c0\": 120.0, \"id\": \"c\"}, {\"c1\": 79.23934495449066, \"c0\": 124.0, \"id\": \"c\"}, {\"c1\": 46.06938660144806, \"c0\": 128.0, \"id\": \"c\"}, {\"c1\": 52.51910072565079, \"c0\": 132.0, \"id\": \"c\"}, {\"c1\": 45.1479988694191, \"c0\": 136.0, \"id\": \"c\"}, {\"c1\": 45.1479988694191, \"c0\": 140.0, \"id\": \"c\"}, {\"c1\": 23.95608103275299, \"c0\": 144.0, \"id\": \"c\"}, {\"c1\": 30.40579515695572, \"c0\": 148.0, \"id\": \"c\"}, {\"c1\": 23.95608103275299, \"c0\": 152.0, \"id\": \"c\"}, {\"c1\": 26.720244228839874, \"c0\": 156.0, \"id\": \"c\"}, {\"c1\": 23.03469330072403, \"c0\": 160.0, \"id\": \"c\"}, {\"c1\": 20.270530104637146, \"c0\": 164.0, \"id\": \"c\"}, {\"c1\": 16.5849791765213, \"c0\": 168.0, \"id\": \"c\"}, {\"c1\": 23.95608103275299, \"c0\": 172.0, \"id\": \"c\"}, {\"c1\": 15.66359144449234, \"c0\": 176.0, \"id\": \"c\"}, {\"c1\": 12.899428248405457, \"c0\": 180.0, \"id\": \"c\"}, {\"c1\": 12.899428248405457, \"c0\": 184.0, \"id\": \"c\"}, {\"c1\": 19.349142372608185, \"c0\": 188.0, \"id\": \"c\"}, {\"c1\": 10.135265052318573, \"c0\": 192.0, \"id\": \"c\"}, {\"c1\": 13.820815980434418, \"c0\": 196.0, \"id\": \"c\"}, {\"c1\": 0.0, \"c0\": 200.0, \"id\": \"c\"}]}, \"hconcat\": [{\"width\": 300, \"encoding\": {\"y\": {\"field\": \"b1\", \"type\": \"quantitative\", \"axis\": {\"title\": \"entries per bin\"}}, \"x\": {\"field\": \"b0\", \"scale\": {\"zero\": false}, \"type\": \"quantitative\", \"axis\": {\"title\": \"Dielectron_mass\"}}}, \"transform\": [{\"filter\": {\"field\": \"id\", \"equal\": \"b\"}}], \"mark\": {\"type\": \"line\", \"clip\": true, \"interpolate\": \"step-before\"}}, {\"width\": 300, \"encoding\": {\"y\": {\"field\": \"c1\", \"type\": \"quantitative\", \"axis\": {\"title\": \"entries per bin\"}}, \"x\": {\"field\": \"c0\", \"scale\": {\"zero\": false}, \"type\": \"quantitative\", \"axis\": {\"title\": \"Dimuon_mass\"}}}, \"transform\": [{\"filter\": {\"field\": \"id\", \"equal\": \"c\"}}], \"mark\": {\"type\": \"line\", \"clip\": true, \"interpolate\": \"step-before\"}}]};\n",
       "var opt = {};\n",
<<<<<<< HEAD
       "var selector = \"#05dd635e-6dbe-428f-a377-a843f664cfb7\";\n",
=======
       "var selector = \"#ca9f937b-9bcb-4d18-b0fd-4c1b1335a5c2\";\n",
>>>>>>> 1504bc9f233bf0ce8499b6ce1ce4f7f0f78c3bab
       "var type = \"vega-lite\";\n",
       "\n",
       "var output_area = this;\n",
       "\n",
       "require(['nbextensions/jupyter-vega/index'], function(vega) {\n",
       "  vega.render(selector, spec, type, opt, output_area);\n",
       "}, function (err) {\n",
       "  if (err.requireType !== 'scripterror') {\n",
       "    throw(err);\n",
       "  }\n",
       "});\n"
      ]
     },
     "metadata": {
<<<<<<< HEAD
      "jupyter-vega": "#05dd635e-6dbe-428f-a377-a843f664cfb7"
=======
      "jupyter-vega": "#ca9f937b-9bcb-4d18-b0fd-4c1b1335a5c2"
>>>>>>> 1504bc9f233bf0ce8499b6ce1ce4f7f0f78c3bab
     },
     "output_type": "display_data"
    },
    {
     "data": {
      "image/png": "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"
     },
     "metadata": {
<<<<<<< HEAD
      "jupyter-vega": "#05dd635e-6dbe-428f-a377-a843f664cfb7"
=======
      "jupyter-vega": "#ca9f937b-9bcb-4d18-b0fd-4c1b1335a5c2"
>>>>>>> 1504bc9f233bf0ce8499b6ce1ce4f7f0f78c3bab
     },
     "output_type": "display_data"
    }
   ],
   "source": [
    "\n",
    "\n",
    "disp = beside(\n",
    "hist1.step(\"Dielectron_mass\",width=300),\n",
    "hist2.step(\"Dimuon_mass\",width=300))\n",
    "\n",
    "display = IPythonDisplay(disp)\n",
    "display.init()\n",
    "disp.to(canvas)\n"
   ]
  },
  {
   "cell_type": "code",
   "execution_count": null,
   "metadata": {},
   "outputs": [],
   "source": []
  }
 ],
 "metadata": {
  "kernelspec": {
   "display_name": "Python 2",
   "language": "python",
   "name": "python2"
  },
  "language_info": {
   "codemirror_mode": {
    "name": "ipython",
    "version": 2
   },
   "file_extension": ".py",
   "mimetype": "text/x-python",
   "name": "python",
   "nbconvert_exporter": "python",
   "pygments_lexer": "ipython2",
   "version": "2.7.12"
  }
 },
 "nbformat": 4,
 "nbformat_minor": 2
}
