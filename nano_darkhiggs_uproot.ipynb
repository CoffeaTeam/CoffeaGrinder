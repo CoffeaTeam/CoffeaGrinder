{
 "cells": [
  {
   "cell_type": "code",
   "execution_count": 1,
   "metadata": {
    "scrolled": true,
    "slideshow": {
     "slide_type": "slide"
    }
   },
   "outputs": [],
   "source": [
    "## File required for this example at /uscms/home/fnavarro/nobackup/nano_darkhiggs_files/ZZTo2L2Nu.root \n",
    "import numpy as np \n",
    "from awkward import JaggedArray, Table  \n",
    "import uproot, uproot_methods\n",
    "import fnal_column_analysis_tools \n",
    "from fnal_column_analysis_tools.analysis_objects import JaggedCandidateArray\n",
    "from histbook import *\n",
    "from vega import VegaLite as canvas                \n",
    "import vega\n",
    "from striped.job import SinglePointStripedSession as Session, IPythonDisplay\n",
    "import time"
   ]
  },
  {
   "cell_type": "code",
   "execution_count": 2,
   "metadata": {
    "slideshow": {
     "slide_type": "-"
    }
   },
   "outputs": [],
   "source": [
    "\n",
    "extractor = fnal_column_analysis_tools.lookup_tools.extractor()\n",
    "extractor.add_weight_sets(['* * lookup_tables/eleTrig.root','* * lookup_tables/muon_trig_Run2016BtoF.root',\n",
    "                           '* * lookup_tables/ScaleFactor_etracker_80x.json', \n",
    "                            '* * lookup_tables/EIDISO_WH_out.json','* * lookup_tables/Tight27AfterIDISO_out.json', '* * lookup_tables/failingVeto_out.json', \n",
    "                            '* * lookup_tables/ElectronID_SFs_WP90.root', '* * lookup_tables/kfactor_24bins.root'])\n",
    "extractor.finalize()\n",
    "\n",
    "evaluator = extractor.make_evaluator()\n"
   ]
  },
  {
   "cell_type": "code",
   "execution_count": 3,
   "metadata": {},
   "outputs": [],
   "source": [
    "hist1 = Hist(bin(\"Dielectron_mass\",50,0,200),weight='e_weight')"
   ]
  },
  {
   "cell_type": "code",
   "execution_count": 4,
   "metadata": {
    "slideshow": {
     "slide_type": "slide"
    }
   },
   "outputs": [
    {
     "name": "stdout",
     "output_type": "stream",
     "text": [
      "182987 events/sec\n"
     ]
    },
    {
     "data": {
      "text/html": [
       "<div class=\"vega-embed\" id=\"54b12dfc-5bfc-41e0-b772-0a42f9fe615b\"></div>\n",
       "\n",
       "<style>\n",
       ".vega-embed .error p {\n",
       "    color: firebrick;\n",
       "    font-size: 14px;\n",
       "}\n",
       "</style>\n"
      ]
     },
     "metadata": {
      "jupyter-vega": "#54b12dfc-5bfc-41e0-b772-0a42f9fe615b"
     },
     "output_type": "display_data"
    },
    {
     "data": {
      "application/javascript": [
       "var spec = {\"$schema\": \"https://vega.github.io/schema/vega-lite/v2.json\", \"data\": {\"values\": [{\"b0\": 0.0, \"id\": \"b\", \"b1\": 0.0}, {\"b0\": 2e-08, \"id\": \"b\", \"b1\": 2.0}, {\"b0\": 4.0, \"id\": \"b\", \"b1\": 0.0}, {\"b0\": 8.0, \"id\": \"b\", \"b1\": 0.8629949719999999}, {\"b0\": 12.0, \"id\": \"b\", \"b1\": 0.8921214399999999}, {\"b0\": 16.0, \"id\": \"b\", \"b1\": 0.0}, {\"b0\": 20.0, \"id\": \"b\", \"b1\": 2.89541045}, {\"b0\": 24.0, \"id\": \"b\", \"b1\": 0.0}, {\"b0\": 28.000000000000004, \"id\": \"b\", \"b1\": 8.0}, {\"b0\": 32.0, \"id\": \"b\", \"b1\": 14.553351619999999}, {\"b0\": 36.0, \"id\": \"b\", \"b1\": 35.894476084}, {\"b0\": 40.0, \"id\": \"b\", \"b1\": 78.049473807}, {\"b0\": 44.0, \"id\": \"b\", \"b1\": 72.81528547600003}, {\"b0\": 48.0, \"id\": \"b\", \"b1\": 63.79745509300001}, {\"b0\": 52.0, \"id\": \"b\", \"b1\": 68.135889622}, {\"b0\": 56.00000000000001, \"id\": \"b\", \"b1\": 102.57477073999996}, {\"b0\": 60.0, \"id\": \"b\", \"b1\": 80.144573002}, {\"b0\": 64.0, \"id\": \"b\", \"b1\": 107.644407381}, {\"b0\": 68.0, \"id\": \"b\", \"b1\": 154.55634268999998}, {\"b0\": 72.0, \"id\": \"b\", \"b1\": 210.79585837799985}, {\"b0\": 76.0, \"id\": \"b\", \"b1\": 395.2044300739999}, {\"b0\": 80.0, \"id\": \"b\", \"b1\": 859.3637609860015}, {\"b0\": 84.0, \"id\": \"b\", \"b1\": 2732.0230614370134}, {\"b0\": 88.0, \"id\": \"b\", \"b1\": 7620.784942464878}, {\"b0\": 92.0, \"id\": \"b\", \"b1\": 4117.781320570015}, {\"b0\": 96.0, \"id\": \"b\", \"b1\": 878.257045198003}, {\"b0\": 100.0, \"id\": \"b\", \"b1\": 319.40935901800003}, {\"b0\": 104.0, \"id\": \"b\", \"b1\": 170.58741557599984}, {\"b0\": 108.0, \"id\": \"b\", \"b1\": 119.02766231899997}, {\"b0\": 112.00000000000001, \"id\": \"b\", \"b1\": 78.96377172200002}, {\"b0\": 115.99999999999999, \"id\": \"b\", \"b1\": 62.749137767}, {\"b0\": 120.0, \"id\": \"b\", \"b1\": 43.515973736999996}, {\"b0\": 124.0, \"id\": \"b\", \"b1\": 28.555097444}, {\"b0\": 128.0, \"id\": \"b\", \"b1\": 28.297002052000003}, {\"b0\": 132.0, \"id\": \"b\", \"b1\": 20.865717208}, {\"b0\": 136.0, \"id\": \"b\", \"b1\": 19.612092952000005}, {\"b0\": 140.0, \"id\": \"b\", \"b1\": 23.472831801999998}, {\"b0\": 144.0, \"id\": \"b\", \"b1\": 26.516984783}, {\"b0\": 148.0, \"id\": \"b\", \"b1\": 14.386872721000001}, {\"b0\": 152.0, \"id\": \"b\", \"b1\": 7.273628535}, {\"b0\": 156.0, \"id\": \"b\", \"b1\": 15.422200876}, {\"b0\": 160.0, \"id\": \"b\", \"b1\": 9.897943577000001}, {\"b0\": 164.0, \"id\": \"b\", \"b1\": 9.250304915}, {\"b0\": 168.0, \"id\": \"b\", \"b1\": 11.479445212}, {\"b0\": 172.0, \"id\": \"b\", \"b1\": 17.163104482}, {\"b0\": 176.0, \"id\": \"b\", \"b1\": 5.653241721}, {\"b0\": 180.0, \"id\": \"b\", \"b1\": 6.4734167849999995}, {\"b0\": 184.0, \"id\": \"b\", \"b1\": 2.776295085}, {\"b0\": 188.0, \"id\": \"b\", \"b1\": 4.481502533}, {\"b0\": 192.0, \"id\": \"b\", \"b1\": 5.568002138}, {\"b0\": 196.0, \"id\": \"b\", \"b1\": 3.6413487939999998}, {\"b0\": 200.0, \"id\": \"b\", \"b1\": 0.0}]}, \"hconcat\": [{\"width\": 300, \"encoding\": {\"y\": {\"field\": \"b1\", \"type\": \"quantitative\", \"axis\": {\"title\": \"entries per bin\"}}, \"x\": {\"field\": \"b0\", \"scale\": {\"zero\": false}, \"type\": \"quantitative\", \"axis\": {\"title\": \"Dielectron_mass\"}}}, \"transform\": [{\"filter\": {\"field\": \"id\", \"equal\": \"b\"}}], \"mark\": {\"type\": \"line\", \"clip\": true, \"interpolate\": \"step-before\"}}]};\n",
       "var opt = {};\n",
       "var selector = \"#54b12dfc-5bfc-41e0-b772-0a42f9fe615b\";\n",
       "var type = \"vega-lite\";\n",
       "\n",
       "var output_area = this;\n",
       "\n",
       "require(['nbextensions/jupyter-vega/index'], function(vega) {\n",
       "  vega.render(selector, spec, type, opt, output_area);\n",
       "}, function (err) {\n",
       "  if (err.requireType !== 'scripterror') {\n",
       "    throw(err);\n",
       "  }\n",
       "});\n"
      ]
     },
     "metadata": {
      "jupyter-vega": "#54b12dfc-5bfc-41e0-b772-0a42f9fe615b"
     },
     "output_type": "display_data"
    },
    {
     "data": {
      "image/png": "[encoded data removed]"
     },
     "metadata": {
      "jupyter-vega": "#54b12dfc-5bfc-41e0-b772-0a42f9fe615b"
     },
     "output_type": "display_data"
    }
   ],
   "source": [
    "singleele_trigger_paths = [\"HLT_Ele27_WPLoose_Gsf\",\n",
    "          \"HLT_Ele105_CaloIdVT_GsfTrkIdT\",\n",
    "          \"HLT_Ele27_WPTight_Gsf\",\n",
    "          \"HLT_Ele27_eta2p1_WPTight_Gsf\",\n",
    "          \"HLT_Ele32_eta2p1_WPTight_Gsf\",\n",
    "          \"HLT_Ele35_WPLoose_Gsf\",\n",
    "          \"HLT_ECALHT800\"]\n",
    "\n",
    "singleele_trigger_columns = {path:path for path in singleele_trigger_paths}\n",
    "electron_columns = {'pt':'Electron_pt','eta':'Electron_eta','phi':'Electron_phi','mass':'Electron_mass','iso':'Electron_pfRelIso03_all','dxy':'Electron_dxy','dz':'Electron_dz',\n",
    "                    'cutBased_HLTPreSel':'Electron_cutBased_HLTPreSel','mvaSpring16GP_WP80':'Electron_mvaSpring16GP_WP80','id':'Electron_mvaSpring16GP_WP90','charge':'Electron_charge',\n",
    "                    'pdgId':'Electron_pdgId','deltaEtaSC':'Electron_deltaEtaSC'}\n",
    "\n",
    "muon_columns = {'pt':'Muon_pt','eta':'Muon_eta','phi':'Muon_phi','mass':'Muon_mass','iso':'Muon_pfRelIso04_all','dxy':'Muon_dxy','dz':'Muon_dz','charge':'Muon_charge','tightId':'Muon_tightId',\n",
    "                 'pdgId':'Muon_pdgId'}\n",
    "\n",
    "jet_columns = {'pt':'Jet_pt','eta':'Jet_eta','phi':'Jet_phi','mass':'Jet_mass','id':'Jet_jetId'}\n",
    "\n",
    "tau_columns = {'pt':'Tau_pt','eta':'Tau_eta','phi':'Tau_phi','mass':'Tau_mass','decayMode':'Tau_idDecayMode','decayModeNew':'Tau_idDecayModeNewDMs','id':'Tau_idMVAnew'} # (idmVAnewDM does not exist in my file) idMVAnew\n",
    "\n",
    "photon_columns = {'pt':'Photon_pt','eta':'Photon_eta','phi':'Photon_phi','mass':'Photon_mass'}\n",
    "\n",
    "gen_columns = {'pt':'GenPart_pt','eta':'GenPart_eta','phi':'GenPart_phi','mass':'GenPart_mass','id':'GenPart_pdgId','status':'GenPart_status', 'statusFlags':'GenPart_statusFlags','mIdx':'GenPart_genPartIdxMother'}\n",
    "\n",
    "all_columns = [electron_columns,muon_columns,jet_columns,photon_columns,singleele_trigger_columns,tau_columns,gen_columns]\n",
    "\n",
    "columns = []\n",
    "\n",
    "\n",
    "events = 0;\n",
    "for cols in all_columns: columns.extend(list(cols.values()))\n",
    "\n",
    "   \n",
    "for arrays in uproot.iterate('ZZTo2L2Nu.root','Events',columns,entrysteps=300000):\n",
    "    t1 = time.time()   \n",
    "        # initialize phyisics object\n",
    "    triggers  = {'SingleEle':np.prod([arrays[val] for val in singleele_trigger_columns],axis=0)}\n",
    "      \n",
    "    electrons = JaggedCandidateArray.candidatesfromcounts(arrays[electron_columns['pt']].counts,\n",
    "                **{key:arrays[val].content for key,val in electron_columns.items()})\n",
    "    \n",
    "    muons     = JaggedCandidateArray.candidatesfromcounts(arrays[muon_columns['pt']].counts, \n",
    "                **{key:arrays[val].content for key,val in muon_columns.items()})\n",
    "    \n",
    "    taus      = JaggedCandidateArray.candidatesfromcounts(arrays[tau_columns['pt']].counts, \n",
    "                **{key:arrays[val].content for key,val in tau_columns.items()})                     \n",
    "    photons   = JaggedCandidateArray.candidatesfromcounts(arrays[photon_columns['pt']].counts, \n",
    "                **{key:arrays[val].content for key,val in photon_columns.items()})\n",
    "    jets      = JaggedCandidateArray.candidatesfromcounts(arrays[jet_columns['pt']].counts, \n",
    "                **{key:arrays[val].content for key,val in jet_columns.items()})\n",
    "    genPart   = JaggedCandidateArray.candidatesfromcounts(arrays[gen_columns['pt']].counts, \n",
    "                **{key:arrays[val].content for key,val in gen_columns.items()})\n",
    "    \n",
    "    events+= electrons.size\n",
    "    \n",
    "    # Scale Farctors to be used\n",
    "\n",
    "    sfReco = np.ones(electrons.size)\n",
    "    sfReco_up = np.ones(electrons.size)\n",
    "    sfReco_down = np.ones(electrons.size)\n",
    "    sfTrig = np.ones(electrons.size)\n",
    "    sfTrig_up = np.ones(electrons.size)\n",
    "    sfTrig_down = np.ones(electrons.size)\n",
    "    sfIdIso = np.ones(electrons.size)\n",
    "    sfIdIso_up = np.ones(electrons.size)\n",
    "    sfIdIso_down = np.ones(electrons.size)\n",
    "    sfId = np.ones(electrons.size)\n",
    "    sfId_up = np.ones(electrons.size)\n",
    "    sfId_down = np.ones(electrons.size)\n",
    "    \n",
    "    weights = np.ones(genPart.size)\n",
    "    weights_up = np.ones(genPart.size)\n",
    "    weights_down = np.ones(genPart.size)\n",
    "    # end initialize\n",
    "        # physical objects selection\n",
    "    loose_electron_selection = ((electrons.pt>7)&(abs(electrons.eta)<2.4)&(abs(electrons.dxy)<0.05)&\n",
    "                                (abs(electrons.dz)<0.2)&(electrons.iso<0.4))#&(electrons.id)\n",
    "    loose_muon_selection =  ((muons.pt>5)&(abs(muons.eta)<2.4)&(abs(muons.dxy)<0.5)&(abs(muons.dz)<1.0)&\n",
    "                             (muons.iso<0.4))\n",
    "    loose_photon_selection = (photons.pt>15)&(abs(photons.eta)<2.5)\n",
    "    tau_selection = (taus.pt>18)&(abs(taus.eta)<2.3)&(taus.decayMode)&((taus.id&2)!=0)\n",
    "    jet_selection = (jets.pt>25)&(abs(jets.eta)<4.5)&((jets.id&2)!=0)\n",
    "    \n",
    "    loose_electrons = electrons[loose_electron_selection]\n",
    "    loose_muons = muons[loose_muon_selection]\n",
    "    loose_photons = photons[loose_photon_selection]\n",
    "    selected_taus = taus[tau_selection]\n",
    "    selected_jets = jets[jet_selection]\n",
    "        # end seletion\n",
    "    \n",
    "        # lepton cleaned jets\n",
    "    jet_combinations = selected_jets.p4.cross(loose_electrons.p4, nested=True)\n",
    "    mask = (jet_combinations.i0.delta_r(jet_combinations.i1) < 0.3 ).any()\n",
    "    e_clean_jets = selected_jets[~mask]\n",
    "    \n",
    "    jet_combinations = e_clean_jets.p4.cross(loose_muons.p4, nested=True)\n",
    "    mask = (jet_combinations.i0.delta_r(jet_combinations.i1) < 0.3).any()\n",
    "    clean_jets = e_clean_jets[~mask]\n",
    "    \n",
    "    # once merge is done\n",
    "    # mask = selected_jets.p4.match(clean_electrons.p4, 0.3)\n",
    "    # clean_jets = selected_jets[~mask]\n",
    "        # end cleaning\n",
    "    \n",
    "    tight_electron_selection = ((loose_electrons.pt > 30)&(loose_electrons.id)&\n",
    "                              (loose_electrons.mvaSpring16GP_WP80)&(loose_electrons.iso < 0.06))\n",
    "\n",
    "    tight_electrons = loose_electrons[tight_electron_selection]\n",
    "    tight_electrons_1L =tight_electrons\n",
    "    \n",
    "    genPart_1LSfe_selection = (abs(genPart.id==11))&(genPart.statusFlags&1 !=0)&(genPart.statusFlags&8192 != 0)\n",
    "    \n",
    "    gen_prompt_electrons = genPart[genPart_1LSfe_selection]\n",
    "    gen_electrons_combinations = tight_electrons.p4.cross(gen_prompt_electrons.p4,nested=True)\n",
    "    gen_electrons_mask = (gen_electrons_combinations.i0.delta_r(gen_electrons_combinations.i1)<0.4).any()\n",
    "\n",
    "    _1L_electrons = tight_electrons[gen_electrons_mask]\n",
    "   \n",
    "    # 1L channel weights\n",
    "    sfReco_value ='ScaleFactor_tracker_80x/eta_pt_ratio_value'\n",
    "    sfReco_error = 'ScaleFactor_tracker_80x/eta_pt_ratio_error'\n",
    "    sfIdIso_value = 'EIDISO_WH/eta_pt_ratio_value'\n",
    "    sfIdIso_error = 'EIDISO_WH/eta_pt_ratio_error'\n",
    "    sfTrig_value = 'Tight27AfterIDISO/eta_pt_ratio_value'\n",
    "    sfTrig_error = 'Tight27AfterIDISO/eta_pt_ratio_error'\n",
    "    \n",
    "    c =_1L_electrons.counts\n",
    "    etaSC = _1L_electrons.eta+_1L_electrons.deltaEtaSC\n",
    "    pt = _1L_electrons.pt\n",
    "    sfReco[c>0] = evaluator[sfReco_value](etaSC,pt)[c>0][:,0]\n",
    "    sfReco_up[c>0] = sfReco[c>0] + evaluator[sfReco_error](etaSC,pt)[c>0][:,0]\n",
    "    sfReco_down[c>0] = sfReco[c>0] - evaluator[sfReco_error](etaSC,pt)[c>0][:,0]\n",
    "    sfReco_up[c>0][_1L_electrons[c>0].pt[:,0] >80] = sfReco_up[c>0][_1L_electrons[c>0].pt[:,0] >80] + 0.01\n",
    "    sfReco_down[c>0][_1L_electrons[c>0].pt[:,0] >80] = sfReco_down[c>0][_1L_electrons[c>0].pt[:,0] >80] - 0.01\n",
    "\n",
    "    sfIdIso[c >0] = evaluator[sfIdIso_value](etaSC,pt)[c>0][:,0]\n",
    "    sfIdIso_up[c>0] = sfIdIso[c > 0] + evaluator[sfIdIso_error](etaSC,pt)[c>0][:,0]\n",
    "    sfIdIso_down[c>0] =sfIdIso[c > 0] - evaluator[sfIdIso_error](etaSC,pt)[c>0][:,0]\n",
    "\n",
    "    sfTrig[c>0] = evaluator[sfTrig_value](etaSC,pt)[c>0][:,0]\n",
    "    sfTrig_up[c>0] = sfTrig[c>0] + evaluator[sfTrig_error](etaSC, pt)[c>0][:,0]\n",
    "    sfTrig_down[c>0] =sfTrig[c>0] - evaluator[sfTrig_error](etaSC,pt)[c>0][:,0]\n",
    "        \n",
    "    weight = sfReco*sfTrig*sfIdIso*sfId\n",
    "    weight_up = sfReco_up*sfTrig_up*sfIdIso_up*sfId\n",
    "    weight_down = sfReco_down*sfTrig_down*sfIdIso_down*sfId\n",
    "    \n",
    "    \n",
    "    dielectron_selection = (tight_electrons.counts>0)&(clean_jets.counts==0)#&(triggers[\"SingleEle\"]==1)#&(loose_photons.counts==0)\n",
    "    \n",
    "    dielectrons = loose_electrons[dielectron_selection].distincts()\n",
    "    dielectron_mass = dielectrons.mass\n",
    "    e_weight = weight[dielectron_selection][dielectrons.counts>0]\n",
    "    dielectron_mass = dielectron_mass[dielectron_mass.counts>0][:,0]\n",
    "        # end dileptons\n",
    "    \n",
    "        # plots\n",
    "    hist1.fill(Dielectron_mass=dielectron_mass,e_weight=e_weight)\n",
    "t2 = time.time()    \n",
    "print str(int(events/(t2-t1)))+\" events/sec\"\n",
    "disp = beside(hist1.step(\"Dielectron_mass\",width=300))\n",
    "display = IPythonDisplay(disp)\n",
    "display.init()\n",
    "disp.to(canvas)"
   ]
  },
  {
   "cell_type": "code",
   "execution_count": 5,
   "metadata": {},
   "outputs": [
    {
     "data": {
      "text/plain": [
       "37"
      ]
     },
     "execution_count": 5,
     "metadata": {},
     "output_type": "execute_result"
    }
   ],
   "source": [
    "t =triggers['SingleEle']\n",
    "t[triggers['SingleEle']==1].size"
   ]
  },
  {
   "cell_type": "code",
   "execution_count": null,
   "metadata": {},
   "outputs": [],
   "source": []
  }
 ],
 "metadata": {
  "celltoolbar": "Slideshow",
  "kernelspec": {
   "display_name": "Python 2",
   "language": "python",
   "name": "python2"
  },
  "language_info": {
   "codemirror_mode": {
    "name": "ipython",
    "version": 2
   },
   "file_extension": ".py",
   "mimetype": "text/x-python",
   "name": "python",
   "nbconvert_exporter": "python",
   "pygments_lexer": "ipython2",
   "version": "2.7.15"
  }
 },
 "nbformat": 4,
 "nbformat_minor": 2
}
